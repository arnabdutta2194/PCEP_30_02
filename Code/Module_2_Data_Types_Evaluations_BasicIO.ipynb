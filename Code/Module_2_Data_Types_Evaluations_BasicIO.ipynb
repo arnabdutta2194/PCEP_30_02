{
 "cells": [
  {
   "cell_type": "code",
   "execution_count": 1,
   "metadata": {},
   "outputs": [
    {
     "name": "stdout",
     "output_type": "stream",
     "text": [
      "Your height in feet is : 5.971128608923885\n"
     ]
    }
   ],
   "source": [
    "height_cm = input('Height converted : Enter your height in cm:' )\n",
    "float_height_cm = float(height_cm)\n",
    "print('Your height in feet is :', float_height_cm/30.48)"
   ]
  },
  {
   "cell_type": "code",
   "execution_count": 2,
   "metadata": {},
   "outputs": [
    {
     "name": "stdout",
     "output_type": "stream",
     "text": [
      "Your height in feet is : 5.971128608923885\n"
     ]
    }
   ],
   "source": [
    "height_cm = float(input('Height converted : Enter your height in cm:' ))\n",
    "print('Your height in feet is :', height_cm/30.48)"
   ]
  },
  {
   "cell_type": "code",
   "execution_count": 3,
   "metadata": {},
   "outputs": [
    {
     "name": "stdout",
     "output_type": "stream",
     "text": [
      "In 2100 you will be  103 Years old\n"
     ]
    }
   ],
   "source": [
    "birth_year = int(input('What year you were born in?' ))\n",
    "print('In 2100 you will be ', 2100-birth_year , 'Years old')"
   ]
  },
  {
   "cell_type": "markdown",
   "metadata": {},
   "source": [
    "Type casting functions :  \n",
    "str()  \n",
    "int()  \n",
    "float()  "
   ]
  },
  {
   "cell_type": "code",
   "execution_count": 4,
   "metadata": {},
   "outputs": [
    {
     "name": "stdout",
     "output_type": "stream",
     "text": [
      "2\n",
      "-2\n"
     ]
    }
   ],
   "source": [
    "#--- unary operators\n",
    "print(+2) #-- + is optional\n",
    "print(-2) #--- - is not optional and it will be displayed"
   ]
  },
  {
   "cell_type": "markdown",
   "metadata": {},
   "source": [
    "Order of Operators  \n",
    "1. **  \n",
    "2. \\* / // %  \n",
    "3. \\+ -"
   ]
  },
  {
   "cell_type": "code",
   "execution_count": 5,
   "metadata": {},
   "outputs": [
    {
     "data": {
      "text/plain": [
       "8"
      ]
     },
     "execution_count": 5,
     "metadata": {},
     "output_type": "execute_result"
    }
   ],
   "source": [
    "2+3*2"
   ]
  },
  {
   "cell_type": "code",
   "execution_count": 7,
   "metadata": {},
   "outputs": [
    {
     "data": {
      "text/plain": [
       "10"
      ]
     },
     "execution_count": 7,
     "metadata": {},
     "output_type": "execute_result"
    }
   ],
   "source": [
    "#Change order of operation\n",
    "(2+3)*2"
   ]
  },
  {
   "cell_type": "code",
   "execution_count": 10,
   "metadata": {},
   "outputs": [
    {
     "name": "stdout",
     "output_type": "stream",
     "text": [
      "0.1\n",
      "0.30000000000000004\n"
     ]
    }
   ],
   "source": [
    "#The Precision of Float numbers in Python is Limited\n",
    "#Computer cannot round of exact float number. What Python does is, it shows an approximation of the float\n",
    "print(0.1)\n",
    "print(0.1+0.1+0.1) #This will have an approximated output"
   ]
  },
  {
   "cell_type": "code",
   "execution_count": 15,
   "metadata": {},
   "outputs": [
    {
     "data": {
      "text/plain": [
       "256"
      ]
     },
     "execution_count": 15,
     "metadata": {},
     "output_type": "execute_result"
    }
   ],
   "source": [
    "#Order of Operation\n",
    "2 ** 2 ** 3\n",
    "#If we start from the left :\n",
    "# 4 ** 3 = 64\n",
    "#If we start from the \n",
    "# 2 ** 8 = 256\n",
    "\n",
    "# So order of operation is always from the right\n",
    "# Exponential operation is right sided binding i.e it always starts from right"
   ]
  },
  {
   "cell_type": "code",
   "execution_count": 17,
   "metadata": {},
   "outputs": [
    {
     "data": {
      "text/plain": [
       "6"
      ]
     },
     "execution_count": 17,
     "metadata": {},
     "output_type": "execute_result"
    }
   ],
   "source": [
    "len('Hello!') #--Number of characters in a string"
   ]
  },
  {
   "cell_type": "code",
   "execution_count": 20,
   "metadata": {},
   "outputs": [
    {
     "name": "stdout",
     "output_type": "stream",
     "text": [
      "Hello, World!.Hi\n"
     ]
    }
   ],
   "source": [
    "print('Hello, World!',end='.') #--Here end is the keyword argument/named argument\n",
    "#-- End has a default value of newline character\n",
    "print('Hi')"
   ]
  },
  {
   "cell_type": "code",
   "execution_count": 23,
   "metadata": {},
   "outputs": [
    {
     "name": "stdout",
     "output_type": "stream",
     "text": [
      "Your first name is-Arnab-Welcome!\n"
     ]
    }
   ],
   "source": [
    "name = 'Arnab'\n",
    "print('Your first name is',name,'Welcome!',sep='-') #--sep argument will determine what to include after the break"
   ]
  },
  {
   "cell_type": "markdown",
   "metadata": {},
   "source": [
    "Bitwise operators  \n",
    "\n",
    "&  : Logical And  \n",
    "|  : Logical Or  \n",
    "~  : Logical negation  \n",
    "^  : Exclusive Or  \n",
    "<<  : Left Shift operator\n",
    "\\>>   : Right Shift operator \n"
   ]
  },
  {
   "cell_type": "code",
   "execution_count": 28,
   "metadata": {},
   "outputs": [
    {
     "name": "stdout",
     "output_type": "stream",
     "text": [
      "0\n",
      "1\n",
      "1\n",
      "-2\n",
      "-4\n"
     ]
    }
   ],
   "source": [
    "first_bit = 1\n",
    "second_bit = 0\n",
    "\n",
    "print(first_bit & second_bit)\n",
    "print(first_bit | second_bit)\n",
    "print(first_bit ^ second_bit)\n",
    "print(~first_bit)\n",
    "print(~3)"
   ]
  },
  {
   "cell_type": "code",
   "execution_count": 29,
   "metadata": {},
   "outputs": [
    {
     "data": {
      "text/plain": [
       "201326592"
      ]
     },
     "execution_count": 29,
     "metadata": {},
     "output_type": "execute_result"
    }
   ],
   "source": [
    "12 << 24"
   ]
  },
  {
   "cell_type": "code",
   "execution_count": 30,
   "metadata": {},
   "outputs": [
    {
     "data": {
      "text/plain": [
       "48"
      ]
     },
     "execution_count": 30,
     "metadata": {},
     "output_type": "execute_result"
    }
   ],
   "source": [
    "12 << 2"
   ]
  },
  {
   "cell_type": "code",
   "execution_count": 31,
   "metadata": {},
   "outputs": [
    {
     "data": {
      "text/plain": [
       "3"
      ]
     },
     "execution_count": 31,
     "metadata": {},
     "output_type": "execute_result"
    }
   ],
   "source": [
    "12 >> 2"
   ]
  },
  {
   "cell_type": "code",
   "execution_count": 32,
   "metadata": {},
   "outputs": [
    {
     "data": {
      "text/plain": [
       "9"
      ]
     },
     "execution_count": 32,
     "metadata": {},
     "output_type": "execute_result"
    }
   ],
   "source": [
    "18>>1"
   ]
  },
  {
   "cell_type": "code",
   "execution_count": null,
   "metadata": {},
   "outputs": [],
   "source": []
  }
 ],
 "metadata": {
  "kernelspec": {
   "display_name": "Python 3",
   "language": "python",
   "name": "python3"
  },
  "language_info": {
   "codemirror_mode": {
    "name": "ipython",
    "version": 3
   },
   "file_extension": ".py",
   "mimetype": "text/x-python",
   "name": "python",
   "nbconvert_exporter": "python",
   "pygments_lexer": "ipython3",
   "version": "3.9.7"
  }
 },
 "nbformat": 4,
 "nbformat_minor": 2
}
