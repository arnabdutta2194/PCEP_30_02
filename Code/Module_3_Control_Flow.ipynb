{
 "cells": [
  {
   "cell_type": "markdown",
   "metadata": {},
   "source": [
    "Logical Operators :  \n",
    "< less than  \n",
    "\\> greater than  \n",
    "<= less than or equal  \n",
    "\\>= greater than or equal  \n",
    "== equals  \n",
    "!= not equals\n",
    "\n",
    "Boolean : True / False"
   ]
  },
  {
   "cell_type": "code",
   "execution_count": 2,
   "metadata": {},
   "outputs": [
    {
     "name": "stdout",
     "output_type": "stream",
     "text": [
      "Hello\n",
      "Hello\n"
     ]
    }
   ],
   "source": [
    "if True:\n",
    "    print('Hello')\n",
    "if False:\n",
    "    print('Hi')\n",
    "if 2 == 2 : print('Hello')"
   ]
  },
  {
   "cell_type": "code",
   "execution_count": 4,
   "metadata": {},
   "outputs": [
    {
     "name": "stdout",
     "output_type": "stream",
     "text": [
      "True\n"
     ]
    }
   ],
   "source": [
    "if 2 == 2.0 : print('True') #Python automatically converts integer to float"
   ]
  },
  {
   "cell_type": "code",
   "execution_count": 5,
   "metadata": {},
   "outputs": [
    {
     "name": "stdout",
     "output_type": "stream",
     "text": [
      "Qualify\n"
     ]
    }
   ],
   "source": [
    "user_age = 25\n",
    "user_country = 'Sweden'\n",
    "if user_age > 20 and user_country == 'Sweden':\n",
    "    print('Qualify')\n",
    "else : print('Do Not Qualify')"
   ]
  },
  {
   "cell_type": "code",
   "execution_count": 7,
   "metadata": {},
   "outputs": [
    {
     "name": "stdout",
     "output_type": "stream",
     "text": [
      "Qualify\n"
     ]
    }
   ],
   "source": [
    "if user_country == 'Sweden' or user_country == 'Denmark' or user_country == 'India':\n",
    "    print('Qualify')\n",
    "else: print('Do Not Qualify')"
   ]
  },
  {
   "cell_type": "code",
   "execution_count": 8,
   "metadata": {},
   "outputs": [
    {
     "name": "stdout",
     "output_type": "stream",
     "text": [
      "Qualify\n"
     ]
    }
   ],
   "source": [
    "if not user_country == 'Sweden' : print('Does not Qualify')\n",
    "else : print('Qualify')"
   ]
  },
  {
   "cell_type": "markdown",
   "metadata": {},
   "source": [
    "Order of operation of operators   :  \n",
    "1. NOT\n",
    "2. AND\n",
    "3. OR"
   ]
  },
  {
   "cell_type": "code",
   "execution_count": 11,
   "metadata": {},
   "outputs": [
    {
     "name": "stdout",
     "output_type": "stream",
     "text": [
      "Do not qualify\n"
     ]
    }
   ],
   "source": [
    "if not user_country == 'Sweden' and user_age < 25 or user_country == 'Germany' and user_age < 23 :\n",
    "    print('Qualify')\n",
    "else : \n",
    "    print('Do not qualify')\n"
   ]
  },
  {
   "cell_type": "code",
   "execution_count": 12,
   "metadata": {},
   "outputs": [
    {
     "name": "stdout",
     "output_type": "stream",
     "text": [
      "Oh No\n"
     ]
    }
   ],
   "source": [
    "answer_a = input('Do you like travelling ? : ')\n",
    "if answer_a == 'y' :\n",
    "    answer_b = input('Do you like Asia ? : ')\n",
    "    if answer_b == 'y' : \n",
    "        print('Okay')\n",
    "    else : print('Oh No')\n",
    "else:\n",
    "    print('Okay')"
   ]
  },
  {
   "cell_type": "code",
   "execution_count": 15,
   "metadata": {},
   "outputs": [
    {
     "name": "stdout",
     "output_type": "stream",
     "text": [
      "1\n",
      "2\n",
      "3\n",
      "4\n",
      "5\n",
      "6\n",
      "7\n",
      "8\n",
      "9\n",
      "10\n"
     ]
    }
   ],
   "source": [
    "counter = 1\n",
    "while counter < 11:\n",
    "    print(counter)\n",
    "    counter += 1"
   ]
  },
  {
   "cell_type": "code",
   "execution_count": 16,
   "metadata": {},
   "outputs": [
    {
     "name": "stdout",
     "output_type": "stream",
     "text": [
      "\n",
      "      SECRET NUMBER GAME\n",
      "      \n",
      "Wrong\n",
      "Wrong\n",
      "Wrong\n",
      "Wrong\n",
      "Wrong\n",
      "You have guessed it !!\n"
     ]
    }
   ],
   "source": [
    "print('''\n",
    "      SECRET NUMBER GAME\n",
    "      ''')\n",
    "number = int(input('Guess a number between 0 to 20 :'))\n",
    "secret_number = 20\n",
    "\n",
    "while number != secret_number:\n",
    "    print('Wrong')\n",
    "    number = int(input('Guess a number between 0 to 20 :'))\n",
    "\n",
    "print('You have guessed it !!')\n"
   ]
  },
  {
   "cell_type": "code",
   "execution_count": 17,
   "metadata": {},
   "outputs": [
    {
     "name": "stdout",
     "output_type": "stream",
     "text": [
      "H\n",
      "e\n",
      "l\n",
      "l\n",
      "o\n",
      "!\n"
     ]
    }
   ],
   "source": [
    "for letter in 'Hello!':\n",
    "    print(letter)"
   ]
  },
  {
   "cell_type": "code",
   "execution_count": 18,
   "metadata": {},
   "outputs": [
    {
     "name": "stdout",
     "output_type": "stream",
     "text": [
      "Counter 1\n",
      "Counter 2\n",
      "Counter 3\n",
      "Counter 4\n",
      "Counter 5\n",
      "Counter 6\n",
      "Counter 7\n",
      "Counter 8\n",
      "Counter 9\n",
      "Counter 10\n"
     ]
    }
   ],
   "source": [
    "for counter in range(1,11):\n",
    "    print('Counter',counter)"
   ]
  },
  {
   "cell_type": "code",
   "execution_count": 19,
   "metadata": {},
   "outputs": [
    {
     "name": "stdout",
     "output_type": "stream",
     "text": [
      "Counter 0\n",
      "Counter 1\n",
      "Counter 2\n",
      "Counter 3\n",
      "Counter 4\n",
      "Counter 5\n",
      "Counter 6\n",
      "Counter 7\n",
      "Counter 8\n",
      "Counter 9\n",
      "Counter 10\n"
     ]
    }
   ],
   "source": [
    "for counter in range(11):\n",
    "    print('Counter',counter)"
   ]
  },
  {
   "cell_type": "code",
   "execution_count": 20,
   "metadata": {},
   "outputs": [
    {
     "name": "stdout",
     "output_type": "stream",
     "text": [
      "Counter 1\n",
      "Counter 5\n",
      "Counter 9\n"
     ]
    }
   ],
   "source": [
    "for counter in range(1,11,4) :     print('Counter',counter)"
   ]
  },
  {
   "cell_type": "code",
   "execution_count": 21,
   "metadata": {},
   "outputs": [
    {
     "name": "stdout",
     "output_type": "stream",
     "text": [
      "Hello  Akash\n",
      "Hello  Gautam\n"
     ]
    }
   ],
   "source": [
    "while True:\n",
    "    name = input('Enter your name :')\n",
    "    if name == 'Arnab' : break\n",
    "    print('Hello ', name)\n"
   ]
  },
  {
   "cell_type": "code",
   "execution_count": 22,
   "metadata": {},
   "outputs": [
    {
     "name": "stdout",
     "output_type": "stream",
     "text": [
      "1\n",
      "2\n",
      "3\n",
      "4\n",
      "6\n",
      "7\n",
      "8\n",
      "9\n",
      "11\n",
      "12\n",
      "13\n",
      "14\n",
      "16\n",
      "17\n",
      "18\n",
      "19\n"
     ]
    }
   ],
   "source": [
    "for i in range(1,21):\n",
    "    if i % 5 == 0 : continue\n",
    "    print(i)"
   ]
  },
  {
   "cell_type": "code",
   "execution_count": 24,
   "metadata": {},
   "outputs": [
    {
     "name": "stdout",
     "output_type": "stream",
     "text": [
      "3\n",
      "4\n",
      "5\n"
     ]
    }
   ],
   "source": [
    "#-- While Else\n",
    "\n",
    "i = 3\n",
    "while i<5 : \n",
    "    print(i)\n",
    "    i = i+1\n",
    "else : print(i)"
   ]
  },
  {
   "cell_type": "code",
   "execution_count": null,
   "metadata": {},
   "outputs": [],
   "source": []
  }
 ],
 "metadata": {
  "kernelspec": {
   "display_name": "Python 3",
   "language": "python",
   "name": "python3"
  },
  "language_info": {
   "codemirror_mode": {
    "name": "ipython",
    "version": 3
   },
   "file_extension": ".py",
   "mimetype": "text/x-python",
   "name": "python",
   "nbconvert_exporter": "python",
   "pygments_lexer": "ipython3",
   "version": "3.9.7"
  }
 },
 "nbformat": 4,
 "nbformat_minor": 2
}
