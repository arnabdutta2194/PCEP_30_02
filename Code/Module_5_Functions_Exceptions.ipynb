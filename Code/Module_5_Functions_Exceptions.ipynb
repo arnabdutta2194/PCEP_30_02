{
 "cells": [
  {
   "cell_type": "code",
   "execution_count": 1,
   "metadata": {},
   "outputs": [
    {
     "name": "stdout",
     "output_type": "stream",
     "text": [
      "Hello My Dear\n"
     ]
    }
   ],
   "source": [
    "def greet():\n",
    "    print('Hello My Dear')\n",
    "greet()"
   ]
  },
  {
   "cell_type": "code",
   "execution_count": 4,
   "metadata": {},
   "outputs": [
    {
     "name": "stdout",
     "output_type": "stream",
     "text": [
      "3.6666666666666665\n"
     ]
    }
   ],
   "source": [
    "#-- Function with parameter\n",
    "\n",
    "inp_numbers = [4,4,1,2,5,6]\n",
    "\n",
    "def get_average(inp_numbers):\n",
    "    sum = 0\n",
    "    for i in inp_numbers:\n",
    "        sum+=i\n",
    "    avg = sum/len(inp_numbers)\n",
    "    print(avg)\n",
    "get_average(inp_numbers)"
   ]
  },
  {
   "cell_type": "code",
   "execution_count": 5,
   "metadata": {},
   "outputs": [
    {
     "name": "stdout",
     "output_type": "stream",
     "text": [
      "2\n"
     ]
    }
   ],
   "source": [
    "def print_letter_count(text,letter):\n",
    "    count = 0\n",
    "    for char in text:\n",
    "        if char == letter:\n",
    "            count+=1\n",
    "    print(count)\n",
    "\n",
    "print_letter_count('Welcome','e')"
   ]
  },
  {
   "cell_type": "code",
   "execution_count": 9,
   "metadata": {},
   "outputs": [
    {
     "name": "stdout",
     "output_type": "stream",
     "text": [
      "1\n",
      "1\n"
     ]
    }
   ],
   "source": [
    "#--- Keyword Arguments\n",
    "print_letter_count(text='Welcome',letter='o')\n",
    "print_letter_count(letter='o',text='Welcome')\n",
    "#-- In both avove cases we will get results as we are using keyword arguments"
   ]
  },
  {
   "cell_type": "code",
   "execution_count": 16,
   "metadata": {},
   "outputs": [
    {
     "name": "stdout",
     "output_type": "stream",
     "text": [
      "1\n",
      "0\n"
     ]
    }
   ],
   "source": [
    "def print_letter_count(text,letter='a'): #---Default Parameter\n",
    "    count = 0\n",
    "    for char in text:\n",
    "        if char == letter:\n",
    "            count+=1\n",
    "    print(count)\n",
    "\n",
    "print_letter_count('Welcome',letter='W')\n",
    "print_letter_count('Welcome') #--- In this case it will take default argument\n",
    "# print_letter_count(letter='W','Welcome') #-- Not acceptable as Functional argument cannot appear after keyword argument\n"
   ]
  },
  {
   "cell_type": "code",
   "execution_count": 18,
   "metadata": {},
   "outputs": [
    {
     "name": "stdout",
     "output_type": "stream",
     "text": [
      "Hello\n"
     ]
    }
   ],
   "source": [
    "#--- Scope of Variables \n",
    "\n",
    "def print_val():\n",
    "    print(val) \n",
    "val = 'Hello' #--- This variables scope is also inside the function's body\n",
    "print_val()"
   ]
  },
  {
   "cell_type": "code",
   "execution_count": 20,
   "metadata": {},
   "outputs": [
    {
     "name": "stdout",
     "output_type": "stream",
     "text": [
      "Hello\n",
      "Bye\n",
      "Hello\n"
     ]
    }
   ],
   "source": [
    "#--- Scope of Variables \n",
    "\n",
    "def print_val():\n",
    "    val = 'Bye'\n",
    "    print(val) \n",
    "val = 'Hello' #--- This variables scope is also inside the function's body\n",
    "print(val)\n",
    "print_val() \n",
    "print(val) #---Value of val did not change as this is shadowing. So the variable under the function is local and outside the function is global"
   ]
  },
  {
   "cell_type": "code",
   "execution_count": 22,
   "metadata": {},
   "outputs": [
    {
     "name": "stdout",
     "output_type": "stream",
     "text": [
      "Hello\n",
      "Bye\n",
      "Bye\n"
     ]
    }
   ],
   "source": [
    "#--- To modify the global variable\n",
    "def print_val():\n",
    "    global val\n",
    "    val = 'Bye'\n",
    "    print(val) \n",
    "val = 'Hello' #--- This variables scope is also inside the function's body\n",
    "print(val)\n",
    "print_val() \n",
    "print(val) #---Value of val did not change as this is shadowing. So the variable under the function is local and outside the function is global"
   ]
  },
  {
   "cell_type": "code",
   "execution_count": 25,
   "metadata": {},
   "outputs": [
    {
     "name": "stdout",
     "output_type": "stream",
     "text": [
      "['Hello']\n",
      "['Hello', 'Bye']\n",
      "['Hello', 'Bye']\n"
     ]
    }
   ],
   "source": [
    "#--- Scope of Lists\n",
    "\n",
    "def print_val():\n",
    "    val.append('Bye') #-- Here we do not use the equals operator so we never create a local version of the variable\n",
    "    print(val) \n",
    "val = ['Hello'] #--- This variables scope is also inside the function's body\n",
    "print(val)\n",
    "print_val() \n",
    "print(val) #---"
   ]
  },
  {
   "cell_type": "code",
   "execution_count": 27,
   "metadata": {},
   "outputs": [
    {
     "name": "stdout",
     "output_type": "stream",
     "text": [
      "None is not True or False. None is None\n"
     ]
    }
   ],
   "source": [
    "#--- None keyword\n",
    "\n",
    "x = None\n",
    "\n",
    "if x: print(\"True\")\n",
    "elif x is False: print(\"False\")\n",
    "else : print(\"None is not True or False. None is None\")"
   ]
  },
  {
   "cell_type": "code",
   "execution_count": 28,
   "metadata": {},
   "outputs": [
    {
     "name": "stdout",
     "output_type": "stream",
     "text": [
      "3.6666666666666665\n"
     ]
    }
   ],
   "source": [
    "#-- Return keyword\n",
    "\n",
    "#--- Any instructions after the return keyword is ignored\n",
    "\n",
    "#-- Function with parameter\n",
    "\n",
    "inp_numbers = [4,4,1,2,5,6]\n",
    "\n",
    "def get_average(inp_numbers):\n",
    "    sum = 0\n",
    "    for i in inp_numbers:\n",
    "        sum+=i\n",
    "    avg = sum/len(inp_numbers)\n",
    "    return avg\n",
    "avg = get_average(inp_numbers)\n",
    "print(avg)"
   ]
  },
  {
   "cell_type": "code",
   "execution_count": 29,
   "metadata": {},
   "outputs": [
    {
     "name": "stdout",
     "output_type": "stream",
     "text": [
      "120\n"
     ]
    }
   ],
   "source": [
    "#--- Recursion\n",
    "\n",
    "#-- Factorial\n",
    "# 3! = 1 * 2 * 3 = 6\n",
    "# 5! = 1 * 2 * 3 * 4 * 5 = 120\n",
    "\n",
    "#--- Iterative Approach\n",
    "def get_factorial(number):\n",
    "    factorial = 1\n",
    "    for x in range(1,number + 1) :\n",
    "        factorial *= x\n",
    "    return factorial\n",
    "\n",
    "factorial = get_factorial(5)\n",
    "print(factorial)"
   ]
  },
  {
   "cell_type": "code",
   "execution_count": 30,
   "metadata": {},
   "outputs": [
    {
     "name": "stdout",
     "output_type": "stream",
     "text": [
      "120\n"
     ]
    }
   ],
   "source": [
    "#--- Recursive Approach\n",
    "\n",
    "def get_factorial_recursive(number):\n",
    "    if number <= 1: return 1\n",
    "    return number * get_factorial_recursive(number-1)\n",
    "\n",
    "factorial = get_factorial_recursive(5)\n",
    "print(factorial)"
   ]
  },
  {
   "cell_type": "code",
   "execution_count": 36,
   "metadata": {},
   "outputs": [
    {
     "name": "stdout",
     "output_type": "stream",
     "text": [
      "<generator object get_number at 0x7f8858c04190>\n",
      "1\n",
      "2\n",
      "3\n"
     ]
    }
   ],
   "source": [
    "#--- Generators\n",
    "\n",
    "def get_number():\n",
    "    for i in range(1,4) : yield i\n",
    "\n",
    "print(get_number())\n",
    "\n",
    "generator =  get_number()\n",
    "print(next(generator))\n",
    "print(next(generator))\n",
    "print(next(generator))\n",
    "\n"
   ]
  },
  {
   "cell_type": "code",
   "execution_count": 37,
   "metadata": {},
   "outputs": [
    {
     "name": "stdout",
     "output_type": "stream",
     "text": [
      "1\n",
      "2\n",
      "3\n"
     ]
    }
   ],
   "source": [
    "#--- Generators can be used in a loop as well \n",
    "\n",
    "for x in get_number(): \n",
    "    print(x)"
   ]
  },
  {
   "cell_type": "code",
   "execution_count": 38,
   "metadata": {},
   "outputs": [
    {
     "name": "stdout",
     "output_type": "stream",
     "text": [
      "[1, 2, 3]\n"
     ]
    }
   ],
   "source": [
    "#-- Generators can be used in a lists as well \n",
    "\n",
    "numbers = list(get_number())\n",
    "print(numbers)"
   ]
  },
  {
   "cell_type": "code",
   "execution_count": 41,
   "metadata": {},
   "outputs": [
    {
     "name": "stdout",
     "output_type": "stream",
     "text": [
      "The inverse of  2  is  0.5\n"
     ]
    }
   ],
   "source": [
    "#--- Exceptions and Exception Handling\n",
    "\n",
    "try:\n",
    "    value = int(input('Enter an integer : '))\n",
    "    print('The inverse of ', value, ' is ', 1/value)\n",
    "except ValueError : print(\"Value Error\")\n",
    "except ZeroDivisionError : print(\"Zero Division Error\")\n",
    "except : print('Something Strange Happened')\n"
   ]
  },
  {
   "cell_type": "markdown",
   "metadata": {},
   "source": [
    "In the video with the introduction to exceptions, I've mentioned that you can use the default except block to catch any sort of exception:  \n",
    "  \n",
    "try:  \n",
    "  your code  \n",
    "except:  \n",
    "  any exception  \n",
    "\n",
    "However, there is one special exception type: SyntaxError. You should pay attention to how it works.  \n",
    "If you raise a SyntaxError manually, then you can catch it in the except block just fine: \n",
    "  \n",
    "try:  \n",
    "  raise SyntaxError  \n",
    "except:  \n",
    "  print('Got it!') # SyntaxError is caught here  \n",
    "  \n",
    "However, if you make a syntax error in the try block and Python automatically raises a SyntaxError for you, then you cannot catch it:  \n",
    "  \n",
    "try:  \n",
    "  5:4 # this line generates a SyntaxError  \n",
    "except:  \n",
    "  print('Got it!') # SyntaxError is NOT caught here  "
   ]
  },
  {
   "cell_type": "code",
   "execution_count": 44,
   "metadata": {},
   "outputs": [
    {
     "ename": "AssertionError",
     "evalue": "Got 0  as number !",
     "output_type": "error",
     "traceback": [
      "\u001b[0;31m---------------------------------------------------------------------------\u001b[0m",
      "\u001b[0;31mAssertionError\u001b[0m                            Traceback (most recent call last)",
      "Cell \u001b[0;32mIn[44], line 9\u001b[0m\n\u001b[1;32m      6\u001b[0m     \u001b[38;5;28;01massert\u001b[39;00m (number \u001b[38;5;241m!=\u001b[39m \u001b[38;5;241m0\u001b[39m ), \u001b[38;5;124m'\u001b[39m\u001b[38;5;124mGot 0  as number !\u001b[39m\u001b[38;5;124m'\u001b[39m\n\u001b[1;32m      7\u001b[0m     \u001b[38;5;28;01mreturn\u001b[39;00m \u001b[38;5;241m1\u001b[39m\u001b[38;5;241m/\u001b[39mnumber\n\u001b[0;32m----> 9\u001b[0m \u001b[43mcalculate_inverse\u001b[49m\u001b[43m(\u001b[49m\u001b[38;5;241;43m0\u001b[39;49m\u001b[43m)\u001b[49m\n",
      "Cell \u001b[0;32mIn[44], line 6\u001b[0m, in \u001b[0;36mcalculate_inverse\u001b[0;34m(number)\u001b[0m\n\u001b[1;32m      5\u001b[0m \u001b[38;5;28;01mdef\u001b[39;00m \u001b[38;5;21mcalculate_inverse\u001b[39m(number):\n\u001b[0;32m----> 6\u001b[0m     \u001b[38;5;28;01massert\u001b[39;00m (number \u001b[38;5;241m!=\u001b[39m \u001b[38;5;241m0\u001b[39m ), \u001b[38;5;124m'\u001b[39m\u001b[38;5;124mGot 0  as number !\u001b[39m\u001b[38;5;124m'\u001b[39m\n\u001b[1;32m      7\u001b[0m     \u001b[38;5;28;01mreturn\u001b[39;00m \u001b[38;5;241m1\u001b[39m\u001b[38;5;241m/\u001b[39mnumber\n",
      "\u001b[0;31mAssertionError\u001b[0m: Got 0  as number !"
     ]
    }
   ],
   "source": [
    "#--- Assertion Error\n",
    "#--- Assertion should be used for Debugging and Writing Test Cases\n",
    "#--- Do Not Handle assertions in TRY/EXCEPT\n",
    "\n",
    "def calculate_inverse(number):\n",
    "    assert (number != 0 ), 'Got 0  as number !'\n",
    "    return 1/number\n",
    "\n",
    "calculate_inverse(0)"
   ]
  },
  {
   "cell_type": "code",
   "execution_count": null,
   "metadata": {},
   "outputs": [],
   "source": []
  }
 ],
 "metadata": {
  "kernelspec": {
   "display_name": "Python 3",
   "language": "python",
   "name": "python3"
  },
  "language_info": {
   "codemirror_mode": {
    "name": "ipython",
    "version": 3
   },
   "file_extension": ".py",
   "mimetype": "text/x-python",
   "name": "python",
   "nbconvert_exporter": "python",
   "pygments_lexer": "ipython3",
   "version": "3.9.7"
  }
 },
 "nbformat": 4,
 "nbformat_minor": 2
}
